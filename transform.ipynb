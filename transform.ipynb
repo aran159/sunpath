{
 "cells": [
  {
   "cell_type": "code",
   "execution_count": null,
   "metadata": {},
   "outputs": [],
   "source": [
    "import pandas as pd\n",
    "import numpy as np\n",
    "from geopy.geocoders import Nominatim\n",
    "\n",
    "geocoder = Nominatim(user_agent='myGeocoder')\n",
    "\n",
    "date_format = \"%m/%d/%Y\"\n",
    "time_format = \"%H:%M:%S\""
   ]
  },
  {
   "cell_type": "code",
   "execution_count": null,
   "metadata": {},
   "outputs": [],
   "source": [
    "raw_df = pd.read_csv('data/sunpath_donostia_GMT_5min.csv')"
   ]
  },
  {
   "cell_type": "code",
   "execution_count": null,
   "metadata": {},
   "outputs": [],
   "source": [
    "raw_df"
   ]
  },
  {
   "cell_type": "code",
   "execution_count": null,
   "metadata": {},
   "outputs": [],
   "source": [
    "number_regex = r'[-]?\\d+[.]\\d+'\n",
    "time_regex = r'(\\d{2}:\\d{2}:\\d{2})'\n",
    "\n",
    "coordinates_regex = f'^coo: ({number_regex})_({number_regex})$'\n",
    "E_regex = f'E {time_regex}'\n",
    "A_regex = f'A {time_regex}'\n",
    "\n",
    "class columns:\n",
    "    coordinates = [raw_df.columns[raw_df.columns.str.match(coordinates_regex)].values.item()]\n",
    "    E = raw_df.columns[raw_df.columns.str.match(f'^{E_regex}$')].values.tolist()\n",
    "    A = raw_df.columns[raw_df.columns.str.match(f'^{A_regex}$')].values.tolist()\n",
    "\n",
    "assert len(raw_df.columns) == (\n",
    "    len(columns.coordinates) \n",
    "    + len(columns.E)\n",
    "    + len(columns.A)\n",
    ")"
   ]
  },
  {
   "cell_type": "code",
   "execution_count": null,
   "metadata": {},
   "outputs": [],
   "source": [
    "lat, long = np.squeeze(raw_df.columns.str.extract(coordinates_regex).dropna().values)\n",
    "location = geocoder.reverse((lat, long))\n",
    "location.address"
   ]
  },
  {
   "cell_type": "code",
   "execution_count": null,
   "metadata": {},
   "outputs": [],
   "source": [
    "date: pd.Series = raw_df[columns.coordinates[0]].rename('date')\n",
    "date"
   ]
  },
  {
   "cell_type": "code",
   "execution_count": null,
   "metadata": {},
   "outputs": [],
   "source": [
    "def stack(df: pd.DataFrame, regex: str) -> pd.Series:\n",
    "    columns = df.columns[df.columns.str.match(f'^{regex}$')].values.tolist()\n",
    "    result: pd.DataFrame = df[columns]\n",
    "    time: pd.Series = result.columns.str.extract(regex).squeeze()\n",
    "    time = pd.to_datetime(time, format=time_format)\n",
    "\n",
    "    # Rename columns\n",
    "    result = result.set_axis(time.dt.strftime(time_format), axis=1)\n",
    "\n",
    "    result = result.stack().rename_axis(['index', 'time'])\n",
    "    result = pd.to_numeric(result, errors='coerce')\n",
    "    return result"
   ]
  },
  {
   "cell_type": "code",
   "execution_count": null,
   "metadata": {},
   "outputs": [],
   "source": [
    "azimuth: pd.Series = stack(raw_df, A_regex).rename('azimuth')\n",
    "altitude: pd.Series = stack(raw_df, E_regex).rename('altitude')"
   ]
  },
  {
   "cell_type": "code",
   "execution_count": null,
   "metadata": {},
   "outputs": [],
   "source": [
    "result = pd.concat([azimuth, altitude], axis=1)"
   ]
  },
  {
   "cell_type": "code",
   "execution_count": null,
   "metadata": {},
   "outputs": [],
   "source": [
    "result = pd.merge(date.reset_index(), result.reset_index(), on=['index']).drop(columns=['index'])\n",
    "# pd.to_datetime()\n",
    "# result"
   ]
  },
  {
   "cell_type": "code",
   "execution_count": null,
   "metadata": {},
   "outputs": [],
   "source": [
    "result['datetime'] = pd.to_datetime(result.date.astype(str) + ' ' + result.time.astype(str), format=f'{date_format} {time_format}')\n",
    "result.reset_index().set_index(['datetime']).drop(columns=['index', 'date', 'time'])\n",
    "# result = result.set_index(['datetime'])\n",
    "# result"
   ]
  },
  {
   "cell_type": "code",
   "execution_count": null,
   "metadata": {},
   "outputs": [],
   "source": [
    "result.describe()"
   ]
  }
 ],
 "metadata": {
  "interpreter": {
   "hash": "03a3453615bec50aa856002c22a3f1969442a1ac6bc1a0528325308abdc2ae57"
  },
  "kernelspec": {
   "display_name": "Python 3.9.7 64-bit ('venv': venv)",
   "name": "python3"
  },
  "language_info": {
   "codemirror_mode": {
    "name": "ipython",
    "version": 3
   },
   "file_extension": ".py",
   "mimetype": "text/x-python",
   "name": "python",
   "nbconvert_exporter": "python",
   "pygments_lexer": "ipython3",
   "version": "3.9.7"
  },
  "orig_nbformat": 4
 },
 "nbformat": 4,
 "nbformat_minor": 2
}
